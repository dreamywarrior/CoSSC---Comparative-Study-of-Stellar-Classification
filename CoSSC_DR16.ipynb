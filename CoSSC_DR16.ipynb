{
 "cells": [
  {
   "cell_type": "code",
   "execution_count": 28,
   "id": "b1ecfc9a",
   "metadata": {},
   "outputs": [],
   "source": [
    "import numpy as np\n",
    "import pandas as pd\n",
    "import matplotlib.pyplot as plt\n",
    "import seaborn as sn"
   ]
  },
  {
   "cell_type": "code",
   "execution_count": 41,
   "id": "68ac2212",
   "metadata": {},
   "outputs": [
    {
     "data": {
      "text/html": [
       "<div>\n",
       "<style scoped>\n",
       "    .dataframe tbody tr th:only-of-type {\n",
       "        vertical-align: middle;\n",
       "    }\n",
       "\n",
       "    .dataframe tbody tr th {\n",
       "        vertical-align: top;\n",
       "    }\n",
       "\n",
       "    .dataframe thead th {\n",
       "        text-align: right;\n",
       "    }\n",
       "</style>\n",
       "<table border=\"1\" class=\"dataframe\">\n",
       "  <thead>\n",
       "    <tr style=\"text-align: right;\">\n",
       "      <th></th>\n",
       "      <th>objid</th>\n",
       "      <th>ra</th>\n",
       "      <th>dec</th>\n",
       "      <th>u</th>\n",
       "      <th>g</th>\n",
       "      <th>r</th>\n",
       "      <th>i</th>\n",
       "      <th>z</th>\n",
       "      <th>run</th>\n",
       "      <th>rerun</th>\n",
       "      <th>camcol</th>\n",
       "      <th>field</th>\n",
       "      <th>specobjid</th>\n",
       "      <th>class</th>\n",
       "      <th>redshift</th>\n",
       "      <th>plate</th>\n",
       "      <th>mjd</th>\n",
       "      <th>fiberid</th>\n",
       "    </tr>\n",
       "  </thead>\n",
       "  <tbody>\n",
       "    <tr>\n",
       "      <th>0</th>\n",
       "      <td>1237666301628060000</td>\n",
       "      <td>47.372545</td>\n",
       "      <td>0.820621</td>\n",
       "      <td>18.69254</td>\n",
       "      <td>17.13867</td>\n",
       "      <td>16.55555</td>\n",
       "      <td>16.34662</td>\n",
       "      <td>16.17639</td>\n",
       "      <td>4849</td>\n",
       "      <td>301</td>\n",
       "      <td>5</td>\n",
       "      <td>771</td>\n",
       "      <td>8168632633242440000</td>\n",
       "      <td>STAR</td>\n",
       "      <td>0.000115</td>\n",
       "      <td>7255</td>\n",
       "      <td>56597</td>\n",
       "      <td>832</td>\n",
       "    </tr>\n",
       "    <tr>\n",
       "      <th>1</th>\n",
       "      <td>1237673706652430000</td>\n",
       "      <td>116.303083</td>\n",
       "      <td>42.455980</td>\n",
       "      <td>18.47633</td>\n",
       "      <td>17.30546</td>\n",
       "      <td>17.24116</td>\n",
       "      <td>17.32780</td>\n",
       "      <td>17.37114</td>\n",
       "      <td>6573</td>\n",
       "      <td>301</td>\n",
       "      <td>6</td>\n",
       "      <td>220</td>\n",
       "      <td>9333948945297330000</td>\n",
       "      <td>STAR</td>\n",
       "      <td>-0.000093</td>\n",
       "      <td>8290</td>\n",
       "      <td>57364</td>\n",
       "      <td>868</td>\n",
       "    </tr>\n",
       "    <tr>\n",
       "      <th>2</th>\n",
       "      <td>1237671126974140000</td>\n",
       "      <td>172.756623</td>\n",
       "      <td>-8.785698</td>\n",
       "      <td>16.47714</td>\n",
       "      <td>15.31072</td>\n",
       "      <td>15.55971</td>\n",
       "      <td>15.72207</td>\n",
       "      <td>15.82471</td>\n",
       "      <td>5973</td>\n",
       "      <td>301</td>\n",
       "      <td>1</td>\n",
       "      <td>13</td>\n",
       "      <td>3221211255238850000</td>\n",
       "      <td>STAR</td>\n",
       "      <td>0.000165</td>\n",
       "      <td>2861</td>\n",
       "      <td>54583</td>\n",
       "      <td>42</td>\n",
       "    </tr>\n",
       "    <tr>\n",
       "      <th>3</th>\n",
       "      <td>1237665441518260000</td>\n",
       "      <td>201.224207</td>\n",
       "      <td>28.771290</td>\n",
       "      <td>18.63561</td>\n",
       "      <td>16.88346</td>\n",
       "      <td>16.09825</td>\n",
       "      <td>15.70987</td>\n",
       "      <td>15.43491</td>\n",
       "      <td>4649</td>\n",
       "      <td>301</td>\n",
       "      <td>3</td>\n",
       "      <td>121</td>\n",
       "      <td>2254061292459420000</td>\n",
       "      <td>GALAXY</td>\n",
       "      <td>0.058155</td>\n",
       "      <td>2002</td>\n",
       "      <td>53471</td>\n",
       "      <td>35</td>\n",
       "    </tr>\n",
       "    <tr>\n",
       "      <th>4</th>\n",
       "      <td>1237665441522840000</td>\n",
       "      <td>212.817222</td>\n",
       "      <td>26.625225</td>\n",
       "      <td>18.88325</td>\n",
       "      <td>17.87948</td>\n",
       "      <td>17.47037</td>\n",
       "      <td>17.17441</td>\n",
       "      <td>17.05235</td>\n",
       "      <td>4649</td>\n",
       "      <td>301</td>\n",
       "      <td>3</td>\n",
       "      <td>191</td>\n",
       "      <td>2390305906828010000</td>\n",
       "      <td>GALAXY</td>\n",
       "      <td>0.072210</td>\n",
       "      <td>2123</td>\n",
       "      <td>53793</td>\n",
       "      <td>74</td>\n",
       "    </tr>\n",
       "  </tbody>\n",
       "</table>\n",
       "</div>"
      ],
      "text/plain": [
       "                 objid          ra        dec         u         g         r  \\\n",
       "0  1237666301628060000   47.372545   0.820621  18.69254  17.13867  16.55555   \n",
       "1  1237673706652430000  116.303083  42.455980  18.47633  17.30546  17.24116   \n",
       "2  1237671126974140000  172.756623  -8.785698  16.47714  15.31072  15.55971   \n",
       "3  1237665441518260000  201.224207  28.771290  18.63561  16.88346  16.09825   \n",
       "4  1237665441522840000  212.817222  26.625225  18.88325  17.87948  17.47037   \n",
       "\n",
       "          i         z   run  rerun  camcol  field            specobjid  \\\n",
       "0  16.34662  16.17639  4849    301       5    771  8168632633242440000   \n",
       "1  17.32780  17.37114  6573    301       6    220  9333948945297330000   \n",
       "2  15.72207  15.82471  5973    301       1     13  3221211255238850000   \n",
       "3  15.70987  15.43491  4649    301       3    121  2254061292459420000   \n",
       "4  17.17441  17.05235  4649    301       3    191  2390305906828010000   \n",
       "\n",
       "    class  redshift  plate    mjd  fiberid  \n",
       "0    STAR  0.000115   7255  56597      832  \n",
       "1    STAR -0.000093   8290  57364      868  \n",
       "2    STAR  0.000165   2861  54583       42  \n",
       "3  GALAXY  0.058155   2002  53471       35  \n",
       "4  GALAXY  0.072210   2123  53793       74  "
      ]
     },
     "execution_count": 41,
     "metadata": {},
     "output_type": "execute_result"
    }
   ],
   "source": [
    "df = pd.read_csv(\"Skyserver_12_30_2019 4_49_58 PM.csv\")\n",
    "dfn = pd.read_csv(\"Skyserver_12_30_2019 4_49_58 PM.csv\")\n",
    "df.head()"
   ]
  },
  {
   "cell_type": "code",
   "execution_count": 42,
   "id": "ed6c525b",
   "metadata": {},
   "outputs": [],
   "source": [
    "df.drop(['objid', 'ra', 'dec', 'run', 'rerun', 'camcol', 'field', 'specobjid', 'plate', 'mjd', 'fiberid'], axis=1, inplace=True)\n",
    "dfn.drop(['objid', 'ra', 'dec', 'run', 'rerun', 'camcol', 'field', 'specobjid', 'plate', 'mjd', 'fiberid'], axis=1, inplace=True)"
   ]
  },
  {
   "cell_type": "code",
   "execution_count": 31,
   "id": "c707c335",
   "metadata": {},
   "outputs": [
    {
     "data": {
      "text/html": [
       "<div>\n",
       "<style scoped>\n",
       "    .dataframe tbody tr th:only-of-type {\n",
       "        vertical-align: middle;\n",
       "    }\n",
       "\n",
       "    .dataframe tbody tr th {\n",
       "        vertical-align: top;\n",
       "    }\n",
       "\n",
       "    .dataframe thead th {\n",
       "        text-align: right;\n",
       "    }\n",
       "</style>\n",
       "<table border=\"1\" class=\"dataframe\">\n",
       "  <thead>\n",
       "    <tr style=\"text-align: right;\">\n",
       "      <th></th>\n",
       "      <th>u</th>\n",
       "      <th>g</th>\n",
       "      <th>r</th>\n",
       "      <th>i</th>\n",
       "      <th>z</th>\n",
       "      <th>class</th>\n",
       "      <th>redshift</th>\n",
       "    </tr>\n",
       "  </thead>\n",
       "  <tbody>\n",
       "    <tr>\n",
       "      <th>0</th>\n",
       "      <td>18.69254</td>\n",
       "      <td>17.13867</td>\n",
       "      <td>16.55555</td>\n",
       "      <td>16.34662</td>\n",
       "      <td>16.17639</td>\n",
       "      <td>STAR</td>\n",
       "      <td>0.000115</td>\n",
       "    </tr>\n",
       "    <tr>\n",
       "      <th>1</th>\n",
       "      <td>18.47633</td>\n",
       "      <td>17.30546</td>\n",
       "      <td>17.24116</td>\n",
       "      <td>17.32780</td>\n",
       "      <td>17.37114</td>\n",
       "      <td>STAR</td>\n",
       "      <td>-0.000093</td>\n",
       "    </tr>\n",
       "    <tr>\n",
       "      <th>2</th>\n",
       "      <td>16.47714</td>\n",
       "      <td>15.31072</td>\n",
       "      <td>15.55971</td>\n",
       "      <td>15.72207</td>\n",
       "      <td>15.82471</td>\n",
       "      <td>STAR</td>\n",
       "      <td>0.000165</td>\n",
       "    </tr>\n",
       "    <tr>\n",
       "      <th>3</th>\n",
       "      <td>18.63561</td>\n",
       "      <td>16.88346</td>\n",
       "      <td>16.09825</td>\n",
       "      <td>15.70987</td>\n",
       "      <td>15.43491</td>\n",
       "      <td>GALAXY</td>\n",
       "      <td>0.058155</td>\n",
       "    </tr>\n",
       "    <tr>\n",
       "      <th>4</th>\n",
       "      <td>18.88325</td>\n",
       "      <td>17.87948</td>\n",
       "      <td>17.47037</td>\n",
       "      <td>17.17441</td>\n",
       "      <td>17.05235</td>\n",
       "      <td>GALAXY</td>\n",
       "      <td>0.072210</td>\n",
       "    </tr>\n",
       "  </tbody>\n",
       "</table>\n",
       "</div>"
      ],
      "text/plain": [
       "          u         g         r         i         z   class  redshift\n",
       "0  18.69254  17.13867  16.55555  16.34662  16.17639    STAR  0.000115\n",
       "1  18.47633  17.30546  17.24116  17.32780  17.37114    STAR -0.000093\n",
       "2  16.47714  15.31072  15.55971  15.72207  15.82471    STAR  0.000165\n",
       "3  18.63561  16.88346  16.09825  15.70987  15.43491  GALAXY  0.058155\n",
       "4  18.88325  17.87948  17.47037  17.17441  17.05235  GALAXY  0.072210"
      ]
     },
     "execution_count": 31,
     "metadata": {},
     "output_type": "execute_result"
    }
   ],
   "source": [
    "df = df[df['class']!='QSO'] # Selects every class value other than quasor \n",
    "df.head()"
   ]
  },
  {
   "cell_type": "code",
   "execution_count": 32,
   "id": "1077fa27",
   "metadata": {},
   "outputs": [],
   "source": [
    "# SELECTING PARTICULAR COLUMNS IN PYTHON\n",
    "x = df.drop(['class'], axis=1).values\n",
    "y = df['class'].values"
   ]
  },
  {
   "cell_type": "code",
   "execution_count": 33,
   "id": "c0f05e25",
   "metadata": {},
   "outputs": [],
   "source": [
    "# Train test split\n",
    "from sklearn.model_selection import train_test_split\n",
    "x_train, x_test, y_train, y_test = train_test_split(x, y, test_size=0.3)"
   ]
  },
  {
   "cell_type": "code",
   "execution_count": 34,
   "id": "e18c5ac7",
   "metadata": {},
   "outputs": [],
   "source": [
    "# Scaling the data\n",
    "from sklearn.preprocessing import StandardScaler\n",
    "sc = StandardScaler()\n",
    "x_train = sc.fit_transform(x_train)\n",
    "x_test = sc.fit_transform(x_test)"
   ]
  },
  {
   "cell_type": "code",
   "execution_count": 35,
   "id": "50048086",
   "metadata": {},
   "outputs": [],
   "source": [
    "# Random Forest\n",
    "from sklearn.ensemble import RandomForestClassifier\n",
    "rfc = RandomForestClassifier(random_state = 0)\n",
    "rfc.fit(x_train, y_train)\n",
    "y_pred = rfc.predict(x_test)"
   ]
  },
  {
   "cell_type": "code",
   "execution_count": 36,
   "id": "53c25ef3",
   "metadata": {},
   "outputs": [
    {
     "data": {
      "text/plain": [
       "array(['STAR', 'GALAXY', 'GALAXY', ..., 'STAR', 'STAR', 'GALAXY'],\n",
       "      dtype=object)"
      ]
     },
     "execution_count": 36,
     "metadata": {},
     "output_type": "execute_result"
    }
   ],
   "source": [
    "y_pred"
   ]
  },
  {
   "cell_type": "code",
   "execution_count": 37,
   "id": "45ecdefa",
   "metadata": {},
   "outputs": [
    {
     "data": {
      "text/plain": [
       "0.9941101916051591"
      ]
     },
     "execution_count": 37,
     "metadata": {},
     "output_type": "execute_result"
    }
   ],
   "source": [
    "from sklearn.metrics import accuracy_score\n",
    "accuracy_score(y_pred, y_test)"
   ]
  },
  {
   "cell_type": "code",
   "execution_count": 46,
   "id": "adf45ae8",
   "metadata": {},
   "outputs": [
    {
     "data": {
      "text/plain": [
       "array(['STAR', 'GALAXY', 'QSO'], dtype=object)"
      ]
     },
     "execution_count": 46,
     "metadata": {},
     "output_type": "execute_result"
    }
   ],
   "source": [
    "dfn['class'].unique()"
   ]
  },
  {
   "cell_type": "code",
   "execution_count": 47,
   "id": "7d1f5a47",
   "metadata": {},
   "outputs": [],
   "source": [
    "# dfn - QSO and NQSO\n",
    "# Step-1: change galaxy and star labels to NQSO\n",
    "dfn['class'] = dfn['class'].map({'GALAXY': 'NQSO', 'QSO': 'QSO', 'STAR' : 'NQSO'})   # MAPPING IN PYTHON"
   ]
  },
  {
   "cell_type": "code",
   "execution_count": 49,
   "id": "0728d9f4",
   "metadata": {},
   "outputs": [
    {
     "data": {
      "text/plain": [
       "array(['NQSO', 'QSO'], dtype=object)"
      ]
     },
     "execution_count": 49,
     "metadata": {},
     "output_type": "execute_result"
    }
   ],
   "source": [
    "dfn['class'].unique()"
   ]
  },
  {
   "cell_type": "code",
   "execution_count": 52,
   "id": "eb4bdcfb",
   "metadata": {},
   "outputs": [],
   "source": [
    "# SELECTING PARTICULAR COLUMNS IN PYTHON\n",
    "x1 = dfn.drop(['class'], axis=1).values\n",
    "y1 = dfn['class'].values"
   ]
  },
  {
   "cell_type": "code",
   "execution_count": 53,
   "id": "67be4a4c",
   "metadata": {},
   "outputs": [],
   "source": [
    "# Train test split\n",
    "from sklearn.model_selection import train_test_split\n",
    "x_train1, x_test1, y_train1, y_test1 = train_test_split(x1, y1, test_size=0.3)"
   ]
  },
  {
   "cell_type": "code",
   "execution_count": 54,
   "id": "b35631b7",
   "metadata": {},
   "outputs": [],
   "source": [
    "# Scaling the data\n",
    "from sklearn.preprocessing import StandardScaler\n",
    "sc = StandardScaler()\n",
    "x_train1 = sc.fit_transform(x_train1)\n",
    "x_test1 = sc.fit_transform(x_test1)"
   ]
  },
  {
   "cell_type": "code",
   "execution_count": 55,
   "id": "f196d099",
   "metadata": {},
   "outputs": [],
   "source": [
    "# Random Forest\n",
    "from sklearn.ensemble import RandomForestClassifier\n",
    "rfc = RandomForestClassifier(random_state = 0)\n",
    "rfc.fit(x_train1, y_train1)\n",
    "y_pred1 = rfc.predict(x_test1)"
   ]
  },
  {
   "cell_type": "code",
   "execution_count": 56,
   "id": "aa8b87e0",
   "metadata": {},
   "outputs": [
    {
     "data": {
      "text/plain": [
       "array(['NQSO', 'QSO', 'NQSO', ..., 'NQSO', 'NQSO', 'QSO'], dtype=object)"
      ]
     },
     "execution_count": 56,
     "metadata": {},
     "output_type": "execute_result"
    }
   ],
   "source": [
    "y_pred1"
   ]
  },
  {
   "cell_type": "code",
   "execution_count": 57,
   "id": "e824de7f",
   "metadata": {},
   "outputs": [
    {
     "data": {
      "text/plain": [
       "0.9926"
      ]
     },
     "execution_count": 57,
     "metadata": {},
     "output_type": "execute_result"
    }
   ],
   "source": [
    "from sklearn.metrics import accuracy_score\n",
    "accuracy_score(y_pred1, y_test1)"
   ]
  }
 ],
 "metadata": {
  "kernelspec": {
   "display_name": "Python 3 (ipykernel)",
   "language": "python",
   "name": "python3"
  },
  "language_info": {
   "codemirror_mode": {
    "name": "ipython",
    "version": 3
   },
   "file_extension": ".py",
   "mimetype": "text/x-python",
   "name": "python",
   "nbconvert_exporter": "python",
   "pygments_lexer": "ipython3",
   "version": "3.9.7"
  }
 },
 "nbformat": 4,
 "nbformat_minor": 5
}
